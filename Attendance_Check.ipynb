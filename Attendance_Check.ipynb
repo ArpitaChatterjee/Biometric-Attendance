{
  "nbformat": 4,
  "nbformat_minor": 0,
  "metadata": {
    "colab": {
      "name": "Attendance_Check.ipynb",
      "provenance": [],
      "collapsed_sections": [],
      "mount_file_id": "11hYQ1PTM3GLNwpzLJl84fSiQqts9FyHM",
      "authorship_tag": "ABX9TyMiPyysu/z4w9DvdRVc8NkV",
      "include_colab_link": true
    },
    "kernelspec": {
      "name": "python3",
      "display_name": "Python 3"
    },
    "accelerator": "GPU"
  },
  "cells": [
    {
      "cell_type": "markdown",
      "metadata": {
        "id": "view-in-github",
        "colab_type": "text"
      },
      "source": [
        "<a href=\"https://colab.research.google.com/github/ArpitaChatterjee/Biometric-Attendance/blob/main/Attendance_Check.ipynb\" target=\"_parent\"><img src=\"https://colab.research.google.com/assets/colab-badge.svg\" alt=\"Open In Colab\"/></a>"
      ]
    },
    {
      "cell_type": "code",
      "metadata": {
        "id": "4Vnzc-o_MLqK",
        "colab": {
          "base_uri": "https://localhost:8080/"
        },
        "outputId": "111d58d9-e381-42eb-f0dd-b381532498d8"
      },
      "source": [
        "!pip  install dlib==19.18.0"
      ],
      "execution_count": 1,
      "outputs": [
        {
          "output_type": "stream",
          "text": [
            "Requirement already satisfied: dlib==19.18.0 in /usr/local/lib/python3.7/dist-packages (19.18.0)\n"
          ],
          "name": "stdout"
        }
      ]
    },
    {
      "cell_type": "code",
      "metadata": {
        "id": "zi9c0c_2J5fx",
        "colab": {
          "base_uri": "https://localhost:8080/"
        },
        "outputId": "f880b7cf-97bf-4bef-bb45-db82d9acd692"
      },
      "source": [
        "!pip install face_recognition\n",
        "import dlib\n",
        "import face_recognition"
      ],
      "execution_count": 2,
      "outputs": [
        {
          "output_type": "stream",
          "text": [
            "Collecting face_recognition\n",
            "  Downloading face_recognition-1.3.0-py2.py3-none-any.whl (15 kB)\n",
            "Requirement already satisfied: numpy in /usr/local/lib/python3.7/dist-packages (from face_recognition) (1.19.5)\n",
            "Collecting face-recognition-models>=0.3.0\n",
            "  Downloading face_recognition_models-0.3.0.tar.gz (100.1 MB)\n",
            "\u001b[K     |████████████████████████████████| 100.1 MB 12 kB/s \n",
            "\u001b[?25hRequirement already satisfied: Pillow in /usr/local/lib/python3.7/dist-packages (from face_recognition) (7.1.2)\n",
            "Requirement already satisfied: dlib>=19.7 in /usr/local/lib/python3.7/dist-packages (from face_recognition) (19.18.0)\n",
            "Requirement already satisfied: Click>=6.0 in /usr/local/lib/python3.7/dist-packages (from face_recognition) (7.1.2)\n",
            "Building wheels for collected packages: face-recognition-models\n",
            "  Building wheel for face-recognition-models (setup.py) ... \u001b[?25l\u001b[?25hdone\n",
            "  Created wheel for face-recognition-models: filename=face_recognition_models-0.3.0-py2.py3-none-any.whl size=100566184 sha256=07bf5d244a7f930c9a235e1d5c050ea8ec3066b27707bd611ab3540bc0305d9d\n",
            "  Stored in directory: /root/.cache/pip/wheels/d6/81/3c/884bcd5e1c120ff548d57c2ecc9ebf3281c9a6f7c0e7e7947a\n",
            "Successfully built face-recognition-models\n",
            "Installing collected packages: face-recognition-models, face-recognition\n",
            "Successfully installed face-recognition-1.3.0 face-recognition-models-0.3.0\n"
          ],
          "name": "stdout"
        }
      ]
    },
    {
      "cell_type": "code",
      "metadata": {
        "id": "2wQd7muAL8DF",
        "colab": {
          "base_uri": "https://localhost:8080/"
        },
        "outputId": "aaabfed4-b638-4e6c-d68f-ce24ab11e713"
      },
      "source": [
        "!pip install opencv-python\n",
        "import cv2\n",
        "import numpy as np\n",
        "from google.colab.patches import cv2_imshow\n",
        "import os"
      ],
      "execution_count": 3,
      "outputs": [
        {
          "output_type": "stream",
          "text": [
            "Requirement already satisfied: opencv-python in /usr/local/lib/python3.7/dist-packages (4.1.2.30)\n",
            "Requirement already satisfied: numpy>=1.14.5 in /usr/local/lib/python3.7/dist-packages (from opencv-python) (1.19.5)\n"
          ],
          "name": "stdout"
        }
      ]
    },
    {
      "cell_type": "code",
      "metadata": {
        "id": "G-0TDFPDM3Q2",
        "colab": {
          "base_uri": "https://localhost:8080/"
        },
        "outputId": "cd2f07f3-c064-4d4d-e21e-bac08dd7e7c1"
      },
      "source": [
        "path = '/content/drive/My Drive/Colab Notebooks/Face Recognition/ImagesAttendance'\n",
        "images=[]\n",
        "classNames=[]\n",
        "mylist= os.listdir(path)\n",
        "print(mylist)\n"
      ],
      "execution_count": 4,
      "outputs": [
        {
          "output_type": "stream",
          "text": [
            "['Bill Gates.jpg', 'Jack Ma.jpg', 'Elon Musk.jpg']\n"
          ],
          "name": "stdout"
        }
      ]
    },
    {
      "cell_type": "code",
      "metadata": {
        "id": "t9Lhe7HIO1g-",
        "colab": {
          "base_uri": "https://localhost:8080/"
        },
        "outputId": "428fcc2e-a5e4-4668-eebb-018cb3a1ff43"
      },
      "source": [
        "for cl in mylist:\n",
        "  curImg = cv2.imread(f'{path}/{cl}')\n",
        "  images.append(curImg)\n",
        "  classNames.append(os.path.splitext(cl)[0])\n",
        "print(classNames)"
      ],
      "execution_count": 5,
      "outputs": [
        {
          "output_type": "stream",
          "text": [
            "['Bill Gates', 'Jack Ma', 'Elon Musk']\n"
          ],
          "name": "stdout"
        }
      ]
    },
    {
      "cell_type": "code",
      "metadata": {
        "id": "z5j84NrUPkDB",
        "colab": {
          "base_uri": "https://localhost:8080/"
        },
        "outputId": "976c7cee-acf0-4252-bb3e-1b375e6476c0"
      },
      "source": [
        "def findEncodings(images):\n",
        "  encodeList =[]\n",
        "  for img in images:\n",
        "    img = cv2.cvtColor(img, cv2.COLOR_BGR2RGB)\n",
        "    encode = face_recognition.face_encodings(img)[0]\n",
        "    encodeList.append(encode)\n",
        "  return encodeList\n",
        "\n",
        "encodelistknown = findEncodings(images)\n",
        "print(len(encodelistknown))"
      ],
      "execution_count": 6,
      "outputs": [
        {
          "output_type": "stream",
          "text": [
            "3\n"
          ],
          "name": "stdout"
        }
      ]
    },
    {
      "cell_type": "code",
      "metadata": {
        "id": "rRsP5BsIQ9Cy",
        "colab": {
          "base_uri": "https://localhost:8080/"
        },
        "outputId": "1dc8c17c-9bcf-43b7-bf76-2fc33f32aa18"
      },
      "source": [
        "print('encoding Complete')"
      ],
      "execution_count": 7,
      "outputs": [
        {
          "output_type": "stream",
          "text": [
            "encoding Complete\n"
          ],
          "name": "stdout"
        }
      ]
    },
    {
      "cell_type": "code",
      "metadata": {
        "id": "PeRzfTf-vhrm"
      },
      "source": [
        "from datetime import datetime"
      ],
      "execution_count": 8,
      "outputs": []
    },
    {
      "cell_type": "code",
      "metadata": {
        "id": "DalnC25iuyov"
      },
      "source": [
        "#TO Mark Attendence\n",
        "def markAttendence(name):\n",
        "  with open('/content/drive/My Drive/Colab Notebooks/Face Recognition/Attendance.csv', 'r+') as f:\n",
        "    mydatalist = f.readlines()\n",
        "    namelist=[]\n",
        "    for line in mydatalist:\n",
        "      entry = line.split(',')\n",
        "      namelist.append(entry[0])\n",
        "    if name not in namelist:\n",
        "      now = datetime.now()\n",
        "      dtstr = now.strftime('%H:%M:%S')\n",
        "      f.writelines(f'\\n{name}, {dtstr}')\n",
        "\n",
        "markAttendence('Elon')\n",
        "markAttendence('Bill Gates')"
      ],
      "execution_count": 9,
      "outputs": []
    }
  ]
}